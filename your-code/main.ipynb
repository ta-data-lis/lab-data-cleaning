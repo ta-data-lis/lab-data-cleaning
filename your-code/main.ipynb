{
 "cells": [
  {
   "cell_type": "markdown",
   "metadata": {},
   "source": [
    "#### 1. Import pandas library"
   ]
  },
  {
   "cell_type": "code",
   "execution_count": 211,
   "metadata": {},
   "outputs": [],
   "source": [
    "import pandas as pd\n",
    "import numpy as np\n",
    "from scipy import stats"
   ]
  },
  {
   "cell_type": "markdown",
   "metadata": {},
   "source": [
    "#### 2. Import users table:"
   ]
  },
  {
   "cell_type": "code",
   "execution_count": 212,
   "metadata": {},
   "outputs": [
    {
     "data": {
      "text/plain": [
       "(40325, 14)"
      ]
     },
     "execution_count": 212,
     "metadata": {},
     "output_type": "execute_result"
    }
   ],
   "source": [
    "users = pd.read_csv('users_table.csv')\n",
    "users.shape"
   ]
  },
  {
   "cell_type": "markdown",
   "metadata": {},
   "source": [
    "#### 3. Rename Id column to userId"
   ]
  },
  {
   "cell_type": "code",
   "execution_count": 213,
   "metadata": {},
   "outputs": [
    {
     "data": {
      "text/plain": [
       "userId               int64\n",
       "Reputation           int64\n",
       "CreationDate        object\n",
       "DisplayName         object\n",
       "LastAccessDate      object\n",
       "WebsiteUrl          object\n",
       "Location            object\n",
       "AboutMe             object\n",
       "Views                int64\n",
       "UpVotes              int64\n",
       "DownVotes            int64\n",
       "AccountId            int64\n",
       "Age                float64\n",
       "ProfileImageUrl     object\n",
       "dtype: object"
      ]
     },
     "execution_count": 213,
     "metadata": {},
     "output_type": "execute_result"
    }
   ],
   "source": [
    "users.rename(columns={'Id': 'userId'}, inplace= True)\n",
    "users.dtypes"
   ]
  },
  {
   "cell_type": "markdown",
   "metadata": {},
   "source": [
    "#### 4. Import posts table:"
   ]
  },
  {
   "cell_type": "code",
   "execution_count": 214,
   "metadata": {},
   "outputs": [
    {
     "data": {
      "text/plain": [
       "Id                         int64\n",
       "PostTypeId                 int64\n",
       "AcceptedAnswerId         float64\n",
       "CreaionDate               object\n",
       "Score                      int64\n",
       "ViewCount                float64\n",
       "Body                      object\n",
       "OwnerUserId              float64\n",
       "LasActivityDate           object\n",
       "Title                     object\n",
       "Tags                      object\n",
       "AnswerCount              float64\n",
       "CommentCount               int64\n",
       "FavoriteCount            float64\n",
       "LastEditorUserId         float64\n",
       "LastEditDate              object\n",
       "CommunityOwnedDate        object\n",
       "ParentId                 float64\n",
       "ClosedDate                object\n",
       "OwnerDisplayName          object\n",
       "LastEditorDisplayName     object\n",
       "dtype: object"
      ]
     },
     "execution_count": 214,
     "metadata": {},
     "output_type": "execute_result"
    }
   ],
   "source": [
    "posts = pd.read_csv('posts_table.csv')\n",
    "posts.dtypes"
   ]
  },
  {
   "cell_type": "markdown",
   "metadata": {},
   "source": [
    "#### 5. Rename Id column to postId and OwnerUserId to userId"
   ]
  },
  {
   "cell_type": "code",
   "execution_count": 215,
   "metadata": {},
   "outputs": [],
   "source": [
    "posts.rename(columns= {'Id': 'postId', 'OwnerUserId': 'userId'}, inplace= True)"
   ]
  },
  {
   "cell_type": "markdown",
   "metadata": {},
   "source": [
    "#### 6. Define new dataframes for users and posts with the following selected columns:\n",
    "    **users columns**: userId, Reputation,Views,UpVotes,DownVotes\n",
    "    **posts columns**: postId, Score,userId,ViewCount,CommentCount"
   ]
  },
  {
   "cell_type": "code",
   "execution_count": 216,
   "metadata": {},
   "outputs": [],
   "source": [
    "users = users[['userId', 'Reputation', 'Views', 'UpVotes', 'DownVotes']]\n",
    "posts = posts[['postId', 'Score', 'userId', 'ViewCount', 'CommentCount']]"
   ]
  },
  {
   "cell_type": "markdown",
   "metadata": {},
   "source": [
    "#### 7. Merge both dataframes, users and posts. \n",
    "You will need to make a [merge](https://pandas.pydata.org/pandas-docs/stable/generated/pandas.DataFrame.merge.html) of posts and users dataframes."
   ]
  },
  {
   "cell_type": "code",
   "execution_count": 217,
   "metadata": {
    "scrolled": true
   },
   "outputs": [
    {
     "data": {
      "text/plain": [
       "userId        int64\n",
       "Reputation    int64\n",
       "Views         int64\n",
       "UpVotes       int64\n",
       "DownVotes     int64\n",
       "dtype: object"
      ]
     },
     "execution_count": 217,
     "metadata": {},
     "output_type": "execute_result"
    }
   ],
   "source": [
    "users.dtypes"
   ]
  },
  {
   "cell_type": "code",
   "execution_count": 218,
   "metadata": {},
   "outputs": [
    {
     "data": {
      "text/plain": [
       "(38962, 9)"
      ]
     },
     "execution_count": 218,
     "metadata": {},
     "output_type": "execute_result"
    }
   ],
   "source": [
    "users_posts = users.merge(posts, on='userId')\n",
    "users_posts.shape"
   ]
  },
  {
   "cell_type": "markdown",
   "metadata": {},
   "source": [
    "#### 8. How many missing values do you have in your merged dataframe? On which columns?"
   ]
  },
  {
   "cell_type": "code",
   "execution_count": 219,
   "metadata": {},
   "outputs": [
    {
     "name": "stdout",
     "output_type": "stream",
     "text": [
      "userId              0\n",
      "Reputation          0\n",
      "Views               0\n",
      "UpVotes             0\n",
      "DownVotes           0\n",
      "postId              0\n",
      "Score               0\n",
      "ViewCount       23572\n",
      "CommentCount        0\n",
      "dtype: int64\n",
      "Index(['postId', 'Score', 'userId', 'ViewCount', 'CommentCount'], dtype='object')\n"
     ]
    }
   ],
   "source": [
    "print(users_posts.isnull().sum())\n",
    "print(posts.columns)\n",
    "# we are only missing a large number of values (23k) on the ViewCount column originating from the posts dataframe."
   ]
  },
  {
   "cell_type": "markdown",
   "metadata": {},
   "source": [
    "#### 9. You will need to make something with missing values.  Will you clean or filling them? Explain. \n",
    "**Remember** to check the results of your code before passing to the next step"
   ]
  },
  {
   "cell_type": "code",
   "execution_count": 220,
   "metadata": {},
   "outputs": [
    {
     "name": "stdout",
     "output_type": "stream",
     "text": [
      "98.0      43\n",
      "150.0     43\n",
      "122.0     42\n",
      "156.0     41\n",
      "108.0     41\n",
      "          ..\n",
      "4414.0     1\n",
      "9772.0     1\n",
      "1796.0     1\n",
      "4976.0     1\n",
      "2174.0     1\n",
      "Name: ViewCount, Length: 3402, dtype: int64\n",
      "3783     98.0\n",
      "4962     98.0\n",
      "9146     98.0\n",
      "10242    98.0\n",
      "11610    98.0\n",
      "12399    98.0\n",
      "18635    98.0\n",
      "19165    98.0\n",
      "19188    98.0\n",
      "20384    98.0\n",
      "20553    98.0\n",
      "21331    98.0\n",
      "21787    98.0\n",
      "22577    98.0\n",
      "22861    98.0\n",
      "23103    98.0\n",
      "23280    98.0\n",
      "23678    98.0\n",
      "23711    98.0\n",
      "23872    98.0\n",
      "25400    98.0\n",
      "26363    98.0\n",
      "27079    98.0\n",
      "27203    98.0\n",
      "27752    98.0\n",
      "27846    98.0\n",
      "30138    98.0\n",
      "30508    98.0\n",
      "30529    98.0\n",
      "30991    98.0\n",
      "32295    98.0\n",
      "32781    98.0\n",
      "32816    98.0\n",
      "33329    98.0\n",
      "34078    98.0\n",
      "34574    98.0\n",
      "35873    98.0\n",
      "36613    98.0\n",
      "36631    98.0\n",
      "36688    98.0\n",
      "37074    98.0\n",
      "37786    98.0\n",
      "38072    98.0\n",
      "Name: ViewCount, dtype: float64\n",
      "Series([], Name: ViewCount, dtype: float64)\n",
      "0.0       23572\n",
      "150.0        43\n",
      "98.0         43\n",
      "122.0        42\n",
      "156.0        41\n",
      "          ...  \n",
      "4414.0        1\n",
      "9772.0        1\n",
      "1796.0        1\n",
      "4976.0        1\n",
      "2174.0        1\n",
      "Name: ViewCount, Length: 3403, dtype: int64\n"
     ]
    }
   ],
   "source": [
    "# one possiblity is that nans are a result of posts with zero views. \n",
    "print(users_posts['ViewCount'].value_counts())\n",
    "print(users_posts['ViewCount'][users_posts['ViewCount'] == 98])\n",
    "print(users_posts['ViewCount'][users_posts['ViewCount'] == 0])\n",
    "\n",
    "# in fact we see that there are a lost of entries with 98 ViewCount, but zero entries with 0 ViewCounts\n",
    "# because I find it is highly unlikely that there are no posts with zero views I think it is safe to assume\n",
    "# NaNs are zeros, so I will replace them\n",
    "users_posts['ViewCount'].fillna(0, inplace=True)\n",
    "print(users_posts['ViewCount'].value_counts())"
   ]
  },
  {
   "cell_type": "markdown",
   "metadata": {},
   "source": [
    "#### 10. Adjust the data types in order to avoid future issues. Which ones should be changed? "
   ]
  },
  {
   "cell_type": "code",
   "execution_count": 221,
   "metadata": {
    "scrolled": true
   },
   "outputs": [
    {
     "data": {
      "text/plain": [
       "userId          int64\n",
       "Reputation      int64\n",
       "Views           int64\n",
       "UpVotes         int64\n",
       "DownVotes       int64\n",
       "postId          int64\n",
       "Score           int64\n",
       "ViewCount       int64\n",
       "CommentCount    int64\n",
       "dtype: object"
      ]
     },
     "execution_count": 221,
     "metadata": {},
     "output_type": "execute_result"
    }
   ],
   "source": [
    "users_posts = users_posts.astype({'ViewCount': 'int64'})\n",
    "users_posts.dtypes"
   ]
  },
  {
   "cell_type": "markdown",
   "metadata": {},
   "source": [
    "# Detecting outliers\n",
    "- Any z-score greater than 3 or less than -3 is considered to be an outlier. \n",
    "- This rule of thumb is based on the empirical rule. \n",
    "- From this rule we see that almost all of the data (99.7%) should be within three standard deviations from the mean."
   ]
  },
  {
   "cell_type": "code",
   "execution_count": 224,
   "metadata": {},
   "outputs": [],
   "source": [
    "detect_outliers = users_posts[['Reputation', 'Views', 'UpVotes', 'DownVotes', 'Score', 'ViewCount', 'CommentCount']]\n",
    "outliers = detect_outliers[(np.abs(stats.zscore(detect_outliers)) > 3).any(axis=1)]"
   ]
  },
  {
   "cell_type": "code",
   "execution_count": 226,
   "metadata": {},
   "outputs": [
    {
     "data": {
      "text/html": [
       "<div>\n",
       "<style scoped>\n",
       "    .dataframe tbody tr th:only-of-type {\n",
       "        vertical-align: middle;\n",
       "    }\n",
       "\n",
       "    .dataframe tbody tr th {\n",
       "        vertical-align: top;\n",
       "    }\n",
       "\n",
       "    .dataframe thead th {\n",
       "        text-align: right;\n",
       "    }\n",
       "</style>\n",
       "<table border=\"1\" class=\"dataframe\">\n",
       "  <thead>\n",
       "    <tr style=\"text-align: right;\">\n",
       "      <th></th>\n",
       "      <th>Reputation</th>\n",
       "      <th>Views</th>\n",
       "      <th>UpVotes</th>\n",
       "      <th>DownVotes</th>\n",
       "      <th>Score</th>\n",
       "      <th>ViewCount</th>\n",
       "      <th>CommentCount</th>\n",
       "    </tr>\n",
       "  </thead>\n",
       "  <tbody>\n",
       "    <tr>\n",
       "      <td>0</td>\n",
       "      <td>1</td>\n",
       "      <td>0</td>\n",
       "      <td>5007</td>\n",
       "      <td>1920</td>\n",
       "      <td>0</td>\n",
       "      <td>0</td>\n",
       "      <td>0</td>\n",
       "    </tr>\n",
       "    <tr>\n",
       "      <td>1</td>\n",
       "      <td>1</td>\n",
       "      <td>0</td>\n",
       "      <td>5007</td>\n",
       "      <td>1920</td>\n",
       "      <td>0</td>\n",
       "      <td>0</td>\n",
       "      <td>0</td>\n",
       "    </tr>\n",
       "    <tr>\n",
       "      <td>2</td>\n",
       "      <td>1</td>\n",
       "      <td>0</td>\n",
       "      <td>5007</td>\n",
       "      <td>1920</td>\n",
       "      <td>0</td>\n",
       "      <td>0</td>\n",
       "      <td>0</td>\n",
       "    </tr>\n",
       "    <tr>\n",
       "      <td>3</td>\n",
       "      <td>1</td>\n",
       "      <td>0</td>\n",
       "      <td>5007</td>\n",
       "      <td>1920</td>\n",
       "      <td>0</td>\n",
       "      <td>0</td>\n",
       "      <td>0</td>\n",
       "    </tr>\n",
       "    <tr>\n",
       "      <td>4</td>\n",
       "      <td>1</td>\n",
       "      <td>0</td>\n",
       "      <td>5007</td>\n",
       "      <td>1920</td>\n",
       "      <td>0</td>\n",
       "      <td>0</td>\n",
       "      <td>0</td>\n",
       "    </tr>\n",
       "    <tr>\n",
       "      <td>...</td>\n",
       "      <td>...</td>\n",
       "      <td>...</td>\n",
       "      <td>...</td>\n",
       "      <td>...</td>\n",
       "      <td>...</td>\n",
       "      <td>...</td>\n",
       "      <td>...</td>\n",
       "    </tr>\n",
       "    <tr>\n",
       "      <td>38889</td>\n",
       "      <td>477</td>\n",
       "      <td>46</td>\n",
       "      <td>96</td>\n",
       "      <td>1</td>\n",
       "      <td>4</td>\n",
       "      <td>7773</td>\n",
       "      <td>3</td>\n",
       "    </tr>\n",
       "    <tr>\n",
       "      <td>38890</td>\n",
       "      <td>477</td>\n",
       "      <td>46</td>\n",
       "      <td>96</td>\n",
       "      <td>1</td>\n",
       "      <td>11</td>\n",
       "      <td>15780</td>\n",
       "      <td>6</td>\n",
       "    </tr>\n",
       "    <tr>\n",
       "      <td>38903</td>\n",
       "      <td>408</td>\n",
       "      <td>27</td>\n",
       "      <td>0</td>\n",
       "      <td>0</td>\n",
       "      <td>47</td>\n",
       "      <td>0</td>\n",
       "      <td>1</td>\n",
       "    </tr>\n",
       "    <tr>\n",
       "      <td>38950</td>\n",
       "      <td>384</td>\n",
       "      <td>77</td>\n",
       "      <td>18</td>\n",
       "      <td>0</td>\n",
       "      <td>47</td>\n",
       "      <td>4463</td>\n",
       "      <td>11</td>\n",
       "    </tr>\n",
       "    <tr>\n",
       "      <td>38960</td>\n",
       "      <td>221</td>\n",
       "      <td>2</td>\n",
       "      <td>0</td>\n",
       "      <td>0</td>\n",
       "      <td>24</td>\n",
       "      <td>3357</td>\n",
       "      <td>5</td>\n",
       "    </tr>\n",
       "  </tbody>\n",
       "</table>\n",
       "<p>3293 rows × 7 columns</p>\n",
       "</div>"
      ],
      "text/plain": [
       "       Reputation  Views  UpVotes  DownVotes  Score  ViewCount  CommentCount\n",
       "0               1      0     5007       1920      0          0             0\n",
       "1               1      0     5007       1920      0          0             0\n",
       "2               1      0     5007       1920      0          0             0\n",
       "3               1      0     5007       1920      0          0             0\n",
       "4               1      0     5007       1920      0          0             0\n",
       "...           ...    ...      ...        ...    ...        ...           ...\n",
       "38889         477     46       96          1      4       7773             3\n",
       "38890         477     46       96          1     11      15780             6\n",
       "38903         408     27        0          0     47          0             1\n",
       "38950         384     77       18          0     47       4463            11\n",
       "38960         221      2        0          0     24       3357             5\n",
       "\n",
       "[3293 rows x 7 columns]"
      ]
     },
     "execution_count": 226,
     "metadata": {},
     "output_type": "execute_result"
    }
   ],
   "source": []
  },
  {
   "cell_type": "code",
   "execution_count": null,
   "metadata": {},
   "outputs": [],
   "source": []
  }
 ],
 "metadata": {
  "kernelspec": {
   "display_name": "Python 3",
   "language": "python",
   "name": "python3"
  },
  "language_info": {
   "codemirror_mode": {
    "name": "ipython",
    "version": 3
   },
   "file_extension": ".py",
   "mimetype": "text/x-python",
   "name": "python",
   "nbconvert_exporter": "python",
   "pygments_lexer": "ipython3",
   "version": "3.7.4"
  }
 },
 "nbformat": 4,
 "nbformat_minor": 2
}
