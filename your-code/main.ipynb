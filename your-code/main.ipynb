{
 "cells": [
  {
   "cell_type": "markdown",
   "metadata": {},
   "source": [
    "#### 1. Import pandas library"
   ]
  },
  {
   "cell_type": "code",
   "execution_count": 1,
   "metadata": {},
   "outputs": [],
   "source": [
    "import pandas as pd\n",
    "import numpy as np\n",
    "from scipy import stats"
   ]
  },
  {
   "cell_type": "markdown",
   "metadata": {},
   "source": [
    "#### 2. Import users table:"
   ]
  },
  {
   "cell_type": "code",
   "execution_count": 2,
   "metadata": {},
   "outputs": [
    {
     "data": {
      "text/plain": [
       "(40325, 14)"
      ]
     },
     "execution_count": 2,
     "metadata": {},
     "output_type": "execute_result"
    }
   ],
   "source": [
    "users = pd.read_csv('users_table.csv')\n",
    "users.shape"
   ]
  },
  {
   "cell_type": "markdown",
   "metadata": {},
   "source": [
    "#### 3. Rename Id column to userId"
   ]
  },
  {
   "cell_type": "code",
   "execution_count": 3,
   "metadata": {},
   "outputs": [
    {
     "data": {
      "text/plain": [
       "userId               int64\n",
       "Reputation           int64\n",
       "CreationDate        object\n",
       "DisplayName         object\n",
       "LastAccessDate      object\n",
       "WebsiteUrl          object\n",
       "Location            object\n",
       "AboutMe             object\n",
       "Views                int64\n",
       "UpVotes              int64\n",
       "DownVotes            int64\n",
       "AccountId            int64\n",
       "Age                float64\n",
       "ProfileImageUrl     object\n",
       "dtype: object"
      ]
     },
     "execution_count": 3,
     "metadata": {},
     "output_type": "execute_result"
    }
   ],
   "source": [
    "users.rename(columns={'Id': 'userId'}, inplace= True)\n",
    "users.dtypes"
   ]
  },
  {
   "cell_type": "markdown",
   "metadata": {},
   "source": [
    "#### 4. Import posts table:"
   ]
  },
  {
   "cell_type": "code",
   "execution_count": 4,
   "metadata": {},
   "outputs": [
    {
     "data": {
      "text/plain": [
       "Id                         int64\n",
       "PostTypeId                 int64\n",
       "AcceptedAnswerId         float64\n",
       "CreaionDate               object\n",
       "Score                      int64\n",
       "ViewCount                float64\n",
       "Body                      object\n",
       "OwnerUserId              float64\n",
       "LasActivityDate           object\n",
       "Title                     object\n",
       "Tags                      object\n",
       "AnswerCount              float64\n",
       "CommentCount               int64\n",
       "FavoriteCount            float64\n",
       "LastEditorUserId         float64\n",
       "LastEditDate              object\n",
       "CommunityOwnedDate        object\n",
       "ParentId                 float64\n",
       "ClosedDate                object\n",
       "OwnerDisplayName          object\n",
       "LastEditorDisplayName     object\n",
       "dtype: object"
      ]
     },
     "execution_count": 4,
     "metadata": {},
     "output_type": "execute_result"
    }
   ],
   "source": [
    "posts = pd.read_csv('posts_table.csv')\n",
    "posts.dtypes"
   ]
  },
  {
   "cell_type": "markdown",
   "metadata": {},
   "source": [
    "#### 5. Rename Id column to postId and OwnerUserId to userId"
   ]
  },
  {
   "cell_type": "code",
   "execution_count": 5,
   "metadata": {},
   "outputs": [],
   "source": [
    "posts.rename(columns= {'Id': 'postId', 'OwnerUserId': 'userId'}, inplace= True)"
   ]
  },
  {
   "cell_type": "markdown",
   "metadata": {},
   "source": [
    "#### 6. Define new dataframes for users and posts with the following selected columns:\n",
    "    **users columns**: userId, Reputation,Views,UpVotes,DownVotes\n",
    "    **posts columns**: postId, Score,userId,ViewCount,CommentCount"
   ]
  },
  {
   "cell_type": "code",
   "execution_count": 6,
   "metadata": {},
   "outputs": [],
   "source": [
    "users = users[['userId', 'Reputation', 'Views', 'UpVotes', 'DownVotes']]\n",
    "posts = posts[['postId', 'Score', 'userId', 'ViewCount', 'CommentCount']]\n"
   ]
  },
  {
   "cell_type": "markdown",
   "metadata": {},
   "source": [
    "#### 7. Merge both dataframes, users and posts. \n",
    "You will need to make a [merge](https://pandas.pydata.org/pandas-docs/stable/generated/pandas.DataFrame.merge.html) of posts and users dataframes."
   ]
  },
  {
   "cell_type": "code",
   "execution_count": 7,
   "metadata": {},
   "outputs": [
    {
     "data": {
      "text/plain": [
       "userId        int64\n",
       "Reputation    int64\n",
       "Views         int64\n",
       "UpVotes       int64\n",
       "DownVotes     int64\n",
       "dtype: object"
      ]
     },
     "execution_count": 7,
     "metadata": {},
     "output_type": "execute_result"
    }
   ],
   "source": [
    "users.dtypes"
   ]
  },
  {
   "cell_type": "code",
   "execution_count": 9,
   "metadata": {},
   "outputs": [
    {
     "data": {
      "text/plain": [
       "(38962, 9)"
      ]
     },
     "execution_count": 9,
     "metadata": {},
     "output_type": "execute_result"
    }
   ],
   "source": [
    "users_posts = users.merge(posts, on='userId')\n",
    "users_posts.shape"
   ]
  },
  {
   "cell_type": "markdown",
   "metadata": {},
   "source": [
    "#### 8. How many missing values do you have in your merged dataframe? On which columns?"
   ]
  },
  {
   "cell_type": "code",
   "execution_count": 10,
   "metadata": {},
   "outputs": [
    {
     "name": "stdout",
     "output_type": "stream",
     "text": [
      "userId              0\n",
      "Reputation          0\n",
      "Views               0\n",
      "UpVotes             0\n",
      "DownVotes           0\n",
      "postId              0\n",
      "Score               0\n",
      "ViewCount       23572\n",
      "CommentCount        0\n",
      "dtype: int64\n",
      "Index(['postId', 'Score', 'userId', 'ViewCount', 'CommentCount'], dtype='object')\n"
     ]
    }
   ],
   "source": [
    "print(users_posts.isnull().sum())\n",
    "print(posts.columns) # The large number indicates the missing values "
   ]
  },
  {
   "cell_type": "markdown",
   "metadata": {},
   "source": [
    "#### 9. You will need to make something with missing values.  Will you clean or filling them? Explain. \n",
    "**Remember** to check the results of your code before passing to the next step"
   ]
  },
  {
   "cell_type": "code",
   "execution_count": 11,
   "metadata": {},
   "outputs": [
    {
     "name": "stdout",
     "output_type": "stream",
     "text": [
      "98.0      43\n",
      "150.0     43\n",
      "122.0     42\n",
      "156.0     41\n",
      "108.0     41\n",
      "          ..\n",
      "2313.0     1\n",
      "6113.0     1\n",
      "3463.0     1\n",
      "3531.0     1\n",
      "3357.0     1\n",
      "Name: ViewCount, Length: 3402, dtype: int64\n",
      "3783     98.0\n",
      "4962     98.0\n",
      "9146     98.0\n",
      "10242    98.0\n",
      "11610    98.0\n",
      "12399    98.0\n",
      "18635    98.0\n",
      "19165    98.0\n",
      "19188    98.0\n",
      "20384    98.0\n",
      "20553    98.0\n",
      "21331    98.0\n",
      "21787    98.0\n",
      "22577    98.0\n",
      "22861    98.0\n",
      "23103    98.0\n",
      "23280    98.0\n",
      "23678    98.0\n",
      "23711    98.0\n",
      "23872    98.0\n",
      "25400    98.0\n",
      "26363    98.0\n",
      "27079    98.0\n",
      "27203    98.0\n",
      "27752    98.0\n",
      "27846    98.0\n",
      "30138    98.0\n",
      "30508    98.0\n",
      "30529    98.0\n",
      "30991    98.0\n",
      "32295    98.0\n",
      "32781    98.0\n",
      "32816    98.0\n",
      "33329    98.0\n",
      "34078    98.0\n",
      "34574    98.0\n",
      "35873    98.0\n",
      "36613    98.0\n",
      "36631    98.0\n",
      "36688    98.0\n",
      "37074    98.0\n",
      "37786    98.0\n",
      "38072    98.0\n",
      "Name: ViewCount, dtype: float64\n",
      "Series([], Name: ViewCount, dtype: float64)\n",
      "0.0        23572\n",
      "98.0          43\n",
      "150.0         43\n",
      "122.0         42\n",
      "108.0         41\n",
      "           ...  \n",
      "1664.0         1\n",
      "1337.0         1\n",
      "64481.0        1\n",
      "2313.0         1\n",
      "3357.0         1\n",
      "Name: ViewCount, Length: 3403, dtype: int64\n"
     ]
    }
   ],
   "source": [
    "print(users_posts['ViewCount'].value_counts())\n",
    "print(users_posts['ViewCount'][users_posts['ViewCount'] == 98])\n",
    "print(users_posts['ViewCount'][users_posts['ViewCount'] == 0])\n",
    "\n",
    "users_posts['ViewCount'].fillna(0, inplace=True)\n",
    "print(users_posts['ViewCount'].value_counts())"
   ]
  },
  {
   "cell_type": "markdown",
   "metadata": {},
   "source": [
    "#### 10. Adjust the data types in order to avoid future issues. Which ones should be changed? "
   ]
  },
  {
   "cell_type": "code",
   "execution_count": 12,
   "metadata": {},
   "outputs": [
    {
     "data": {
      "text/plain": [
       "userId          int64\n",
       "Reputation      int64\n",
       "Views           int64\n",
       "UpVotes         int64\n",
       "DownVotes       int64\n",
       "postId          int64\n",
       "Score           int64\n",
       "ViewCount       int64\n",
       "CommentCount    int64\n",
       "dtype: object"
      ]
     },
     "execution_count": 12,
     "metadata": {},
     "output_type": "execute_result"
    }
   ],
   "source": [
    "users_posts = users_posts.astype({'ViewCount': 'int64'})\n",
    "users_posts.dtypes"
   ]
  },
  {
   "cell_type": "code",
   "execution_count": null,
   "metadata": {},
   "outputs": [],
   "source": []
  }
 ],
 "metadata": {
  "kernelspec": {
   "display_name": "Python 3 (ipykernel)",
   "language": "python",
   "name": "python3"
  },
  "language_info": {
   "codemirror_mode": {
    "name": "ipython",
    "version": 3
   },
   "file_extension": ".py",
   "mimetype": "text/x-python",
   "name": "python",
   "nbconvert_exporter": "python",
   "pygments_lexer": "ipython3",
   "version": "3.9.7"
  }
 },
 "nbformat": 4,
 "nbformat_minor": 2
}
